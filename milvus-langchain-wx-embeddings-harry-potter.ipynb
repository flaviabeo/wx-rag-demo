{
 "cells": [
  {
   "cell_type": "code",
   "execution_count": 1,
   "metadata": {},
   "outputs": [
    {
     "name": "stdout",
     "output_type": "stream",
     "text": [
      "Requirement already satisfied: pymilvus==2.4.0 in /Users/flaviajaninebeo/Documents/Virtualenvs/wx-ai-intel-demo/lib/python3.11/site-packages (2.4.0)\n",
      "Requirement already satisfied: setuptools>=67 in /Users/flaviajaninebeo/Documents/Virtualenvs/wx-ai-intel-demo/lib/python3.11/site-packages (from pymilvus==2.4.0) (72.2.0)\n",
      "Requirement already satisfied: grpcio<=1.60.0,>=1.49.1 in /Users/flaviajaninebeo/Documents/Virtualenvs/wx-ai-intel-demo/lib/python3.11/site-packages (from pymilvus==2.4.0) (1.60.0)\n",
      "Requirement already satisfied: protobuf>=3.20.0 in /Users/flaviajaninebeo/Documents/Virtualenvs/wx-ai-intel-demo/lib/python3.11/site-packages (from pymilvus==2.4.0) (5.27.3)\n",
      "Requirement already satisfied: environs<=9.5.0 in /Users/flaviajaninebeo/Documents/Virtualenvs/wx-ai-intel-demo/lib/python3.11/site-packages (from pymilvus==2.4.0) (9.5.0)\n",
      "Requirement already satisfied: ujson>=2.0.0 in /Users/flaviajaninebeo/Documents/Virtualenvs/wx-ai-intel-demo/lib/python3.11/site-packages (from pymilvus==2.4.0) (5.10.0)\n",
      "Requirement already satisfied: pandas>=1.2.4 in /Users/flaviajaninebeo/Documents/Virtualenvs/wx-ai-intel-demo/lib/python3.11/site-packages (from pymilvus==2.4.0) (2.1.4)\n",
      "Requirement already satisfied: requests in /Users/flaviajaninebeo/Documents/Virtualenvs/wx-ai-intel-demo/lib/python3.11/site-packages (from pymilvus==2.4.0) (2.32.2)\n",
      "Requirement already satisfied: minio>=7.0.0 in /Users/flaviajaninebeo/Documents/Virtualenvs/wx-ai-intel-demo/lib/python3.11/site-packages (from pymilvus==2.4.0) (7.2.7)\n",
      "Requirement already satisfied: pyarrow>=12.0.0 in /Users/flaviajaninebeo/Documents/Virtualenvs/wx-ai-intel-demo/lib/python3.11/site-packages (from pymilvus==2.4.0) (17.0.0)\n",
      "Requirement already satisfied: azure-storage-blob in /Users/flaviajaninebeo/Documents/Virtualenvs/wx-ai-intel-demo/lib/python3.11/site-packages (from pymilvus==2.4.0) (12.22.0)\n",
      "Requirement already satisfied: scipy in /Users/flaviajaninebeo/Documents/Virtualenvs/wx-ai-intel-demo/lib/python3.11/site-packages (from pymilvus==2.4.0) (1.14.0)\n",
      "Requirement already satisfied: marshmallow>=3.0.0 in /Users/flaviajaninebeo/Documents/Virtualenvs/wx-ai-intel-demo/lib/python3.11/site-packages (from environs<=9.5.0->pymilvus==2.4.0) (3.21.3)\n",
      "Requirement already satisfied: python-dotenv in /Users/flaviajaninebeo/Documents/Virtualenvs/wx-ai-intel-demo/lib/python3.11/site-packages (from environs<=9.5.0->pymilvus==2.4.0) (1.0.1)\n",
      "Requirement already satisfied: certifi in /Users/flaviajaninebeo/Documents/Virtualenvs/wx-ai-intel-demo/lib/python3.11/site-packages (from minio>=7.0.0->pymilvus==2.4.0) (2024.7.4)\n",
      "Requirement already satisfied: urllib3 in /Users/flaviajaninebeo/Documents/Virtualenvs/wx-ai-intel-demo/lib/python3.11/site-packages (from minio>=7.0.0->pymilvus==2.4.0) (2.2.2)\n",
      "Requirement already satisfied: argon2-cffi in /Users/flaviajaninebeo/Documents/Virtualenvs/wx-ai-intel-demo/lib/python3.11/site-packages (from minio>=7.0.0->pymilvus==2.4.0) (23.1.0)\n",
      "Requirement already satisfied: pycryptodome in /Users/flaviajaninebeo/Documents/Virtualenvs/wx-ai-intel-demo/lib/python3.11/site-packages (from minio>=7.0.0->pymilvus==2.4.0) (3.20.0)\n",
      "Requirement already satisfied: typing-extensions in /Users/flaviajaninebeo/Documents/Virtualenvs/wx-ai-intel-demo/lib/python3.11/site-packages (from minio>=7.0.0->pymilvus==2.4.0) (4.12.2)\n",
      "Requirement already satisfied: numpy<2,>=1.23.2 in /Users/flaviajaninebeo/Documents/Virtualenvs/wx-ai-intel-demo/lib/python3.11/site-packages (from pandas>=1.2.4->pymilvus==2.4.0) (1.26.4)\n",
      "Requirement already satisfied: python-dateutil>=2.8.2 in /Users/flaviajaninebeo/Documents/Virtualenvs/wx-ai-intel-demo/lib/python3.11/site-packages (from pandas>=1.2.4->pymilvus==2.4.0) (2.9.0.post0)\n",
      "Requirement already satisfied: pytz>=2020.1 in /Users/flaviajaninebeo/Documents/Virtualenvs/wx-ai-intel-demo/lib/python3.11/site-packages (from pandas>=1.2.4->pymilvus==2.4.0) (2024.1)\n",
      "Requirement already satisfied: tzdata>=2022.1 in /Users/flaviajaninebeo/Documents/Virtualenvs/wx-ai-intel-demo/lib/python3.11/site-packages (from pandas>=1.2.4->pymilvus==2.4.0) (2024.1)\n",
      "Requirement already satisfied: azure-core>=1.28.0 in /Users/flaviajaninebeo/Documents/Virtualenvs/wx-ai-intel-demo/lib/python3.11/site-packages (from azure-storage-blob->pymilvus==2.4.0) (1.30.2)\n",
      "Requirement already satisfied: cryptography>=2.1.4 in /Users/flaviajaninebeo/Documents/Virtualenvs/wx-ai-intel-demo/lib/python3.11/site-packages (from azure-storage-blob->pymilvus==2.4.0) (43.0.0)\n",
      "Requirement already satisfied: isodate>=0.6.1 in /Users/flaviajaninebeo/Documents/Virtualenvs/wx-ai-intel-demo/lib/python3.11/site-packages (from azure-storage-blob->pymilvus==2.4.0) (0.6.1)\n",
      "Requirement already satisfied: charset-normalizer<4,>=2 in /Users/flaviajaninebeo/Documents/Virtualenvs/wx-ai-intel-demo/lib/python3.11/site-packages (from requests->pymilvus==2.4.0) (3.3.2)\n",
      "Requirement already satisfied: idna<4,>=2.5 in /Users/flaviajaninebeo/Documents/Virtualenvs/wx-ai-intel-demo/lib/python3.11/site-packages (from requests->pymilvus==2.4.0) (3.7)\n",
      "Requirement already satisfied: six>=1.11.0 in /Users/flaviajaninebeo/Documents/Virtualenvs/wx-ai-intel-demo/lib/python3.11/site-packages (from azure-core>=1.28.0->azure-storage-blob->pymilvus==2.4.0) (1.16.0)\n",
      "Requirement already satisfied: cffi>=1.12 in /Users/flaviajaninebeo/Documents/Virtualenvs/wx-ai-intel-demo/lib/python3.11/site-packages (from cryptography>=2.1.4->azure-storage-blob->pymilvus==2.4.0) (1.17.0)\n",
      "Requirement already satisfied: packaging>=17.0 in /Users/flaviajaninebeo/Documents/Virtualenvs/wx-ai-intel-demo/lib/python3.11/site-packages (from marshmallow>=3.0.0->environs<=9.5.0->pymilvus==2.4.0) (24.1)\n",
      "Requirement already satisfied: argon2-cffi-bindings in /Users/flaviajaninebeo/Documents/Virtualenvs/wx-ai-intel-demo/lib/python3.11/site-packages (from argon2-cffi->minio>=7.0.0->pymilvus==2.4.0) (21.2.0)\n",
      "Requirement already satisfied: pycparser in /Users/flaviajaninebeo/Documents/Virtualenvs/wx-ai-intel-demo/lib/python3.11/site-packages (from cffi>=1.12->cryptography>=2.1.4->azure-storage-blob->pymilvus==2.4.0) (2.22)\n",
      "\n",
      "\u001b[1m[\u001b[0m\u001b[34;49mnotice\u001b[0m\u001b[1;39;49m]\u001b[0m\u001b[39;49m A new release of pip is available: \u001b[0m\u001b[31;49m24.1.2\u001b[0m\u001b[39;49m -> \u001b[0m\u001b[32;49m24.2\u001b[0m\n",
      "\u001b[1m[\u001b[0m\u001b[34;49mnotice\u001b[0m\u001b[1;39;49m]\u001b[0m\u001b[39;49m To update, run: \u001b[0m\u001b[32;49mpip install --upgrade pip\u001b[0m\n",
      "Requirement already satisfied: langchain in /Users/flaviajaninebeo/Documents/Virtualenvs/wx-ai-intel-demo/lib/python3.11/site-packages (0.2.14)\n",
      "Requirement already satisfied: PyYAML>=5.3 in /Users/flaviajaninebeo/Documents/Virtualenvs/wx-ai-intel-demo/lib/python3.11/site-packages (from langchain) (6.0.2)\n",
      "Requirement already satisfied: SQLAlchemy<3,>=1.4 in /Users/flaviajaninebeo/Documents/Virtualenvs/wx-ai-intel-demo/lib/python3.11/site-packages (from langchain) (2.0.32)\n",
      "Requirement already satisfied: aiohttp<4.0.0,>=3.8.3 in /Users/flaviajaninebeo/Documents/Virtualenvs/wx-ai-intel-demo/lib/python3.11/site-packages (from langchain) (3.10.3)\n",
      "Requirement already satisfied: langchain-core<0.3.0,>=0.2.32 in /Users/flaviajaninebeo/Documents/Virtualenvs/wx-ai-intel-demo/lib/python3.11/site-packages (from langchain) (0.2.32)\n",
      "Requirement already satisfied: langchain-text-splitters<0.3.0,>=0.2.0 in /Users/flaviajaninebeo/Documents/Virtualenvs/wx-ai-intel-demo/lib/python3.11/site-packages (from langchain) (0.2.2)\n",
      "Requirement already satisfied: langsmith<0.2.0,>=0.1.17 in /Users/flaviajaninebeo/Documents/Virtualenvs/wx-ai-intel-demo/lib/python3.11/site-packages (from langchain) (0.1.99)\n",
      "Requirement already satisfied: numpy<2,>=1 in /Users/flaviajaninebeo/Documents/Virtualenvs/wx-ai-intel-demo/lib/python3.11/site-packages (from langchain) (1.26.4)\n",
      "Requirement already satisfied: pydantic<3,>=1 in /Users/flaviajaninebeo/Documents/Virtualenvs/wx-ai-intel-demo/lib/python3.11/site-packages (from langchain) (2.8.2)\n",
      "Requirement already satisfied: requests<3,>=2 in /Users/flaviajaninebeo/Documents/Virtualenvs/wx-ai-intel-demo/lib/python3.11/site-packages (from langchain) (2.32.2)\n",
      "Requirement already satisfied: tenacity!=8.4.0,<9.0.0,>=8.1.0 in /Users/flaviajaninebeo/Documents/Virtualenvs/wx-ai-intel-demo/lib/python3.11/site-packages (from langchain) (8.5.0)\n",
      "Requirement already satisfied: aiohappyeyeballs>=2.3.0 in /Users/flaviajaninebeo/Documents/Virtualenvs/wx-ai-intel-demo/lib/python3.11/site-packages (from aiohttp<4.0.0,>=3.8.3->langchain) (2.3.5)\n",
      "Requirement already satisfied: aiosignal>=1.1.2 in /Users/flaviajaninebeo/Documents/Virtualenvs/wx-ai-intel-demo/lib/python3.11/site-packages (from aiohttp<4.0.0,>=3.8.3->langchain) (1.3.1)\n",
      "Requirement already satisfied: attrs>=17.3.0 in /Users/flaviajaninebeo/Documents/Virtualenvs/wx-ai-intel-demo/lib/python3.11/site-packages (from aiohttp<4.0.0,>=3.8.3->langchain) (24.2.0)\n",
      "Requirement already satisfied: frozenlist>=1.1.1 in /Users/flaviajaninebeo/Documents/Virtualenvs/wx-ai-intel-demo/lib/python3.11/site-packages (from aiohttp<4.0.0,>=3.8.3->langchain) (1.4.1)\n",
      "Requirement already satisfied: multidict<7.0,>=4.5 in /Users/flaviajaninebeo/Documents/Virtualenvs/wx-ai-intel-demo/lib/python3.11/site-packages (from aiohttp<4.0.0,>=3.8.3->langchain) (6.0.5)\n",
      "Requirement already satisfied: yarl<2.0,>=1.0 in /Users/flaviajaninebeo/Documents/Virtualenvs/wx-ai-intel-demo/lib/python3.11/site-packages (from aiohttp<4.0.0,>=3.8.3->langchain) (1.9.4)\n",
      "Requirement already satisfied: jsonpatch<2.0,>=1.33 in /Users/flaviajaninebeo/Documents/Virtualenvs/wx-ai-intel-demo/lib/python3.11/site-packages (from langchain-core<0.3.0,>=0.2.32->langchain) (1.33)\n",
      "Requirement already satisfied: packaging<25,>=23.2 in /Users/flaviajaninebeo/Documents/Virtualenvs/wx-ai-intel-demo/lib/python3.11/site-packages (from langchain-core<0.3.0,>=0.2.32->langchain) (24.1)\n",
      "Requirement already satisfied: typing-extensions>=4.7 in /Users/flaviajaninebeo/Documents/Virtualenvs/wx-ai-intel-demo/lib/python3.11/site-packages (from langchain-core<0.3.0,>=0.2.32->langchain) (4.12.2)\n",
      "Requirement already satisfied: orjson<4.0.0,>=3.9.14 in /Users/flaviajaninebeo/Documents/Virtualenvs/wx-ai-intel-demo/lib/python3.11/site-packages (from langsmith<0.2.0,>=0.1.17->langchain) (3.10.7)\n",
      "Requirement already satisfied: annotated-types>=0.4.0 in /Users/flaviajaninebeo/Documents/Virtualenvs/wx-ai-intel-demo/lib/python3.11/site-packages (from pydantic<3,>=1->langchain) (0.7.0)\n",
      "Requirement already satisfied: pydantic-core==2.20.1 in /Users/flaviajaninebeo/Documents/Virtualenvs/wx-ai-intel-demo/lib/python3.11/site-packages (from pydantic<3,>=1->langchain) (2.20.1)\n",
      "Requirement already satisfied: charset-normalizer<4,>=2 in /Users/flaviajaninebeo/Documents/Virtualenvs/wx-ai-intel-demo/lib/python3.11/site-packages (from requests<3,>=2->langchain) (3.3.2)\n",
      "Requirement already satisfied: idna<4,>=2.5 in /Users/flaviajaninebeo/Documents/Virtualenvs/wx-ai-intel-demo/lib/python3.11/site-packages (from requests<3,>=2->langchain) (3.7)\n",
      "Requirement already satisfied: urllib3<3,>=1.21.1 in /Users/flaviajaninebeo/Documents/Virtualenvs/wx-ai-intel-demo/lib/python3.11/site-packages (from requests<3,>=2->langchain) (2.2.2)\n",
      "Requirement already satisfied: certifi>=2017.4.17 in /Users/flaviajaninebeo/Documents/Virtualenvs/wx-ai-intel-demo/lib/python3.11/site-packages (from requests<3,>=2->langchain) (2024.7.4)\n",
      "Requirement already satisfied: jsonpointer>=1.9 in /Users/flaviajaninebeo/Documents/Virtualenvs/wx-ai-intel-demo/lib/python3.11/site-packages (from jsonpatch<2.0,>=1.33->langchain-core<0.3.0,>=0.2.32->langchain) (3.0.0)\n",
      "\n",
      "\u001b[1m[\u001b[0m\u001b[34;49mnotice\u001b[0m\u001b[1;39;49m]\u001b[0m\u001b[39;49m A new release of pip is available: \u001b[0m\u001b[31;49m24.1.2\u001b[0m\u001b[39;49m -> \u001b[0m\u001b[32;49m24.2\u001b[0m\n",
      "\u001b[1m[\u001b[0m\u001b[34;49mnotice\u001b[0m\u001b[1;39;49m]\u001b[0m\u001b[39;49m To update, run: \u001b[0m\u001b[32;49mpip install --upgrade pip\u001b[0m\n",
      "Requirement already satisfied: ibm-generative-ai in /Users/flaviajaninebeo/Documents/Virtualenvs/wx-ai-intel-demo/lib/python3.11/site-packages (3.0.0)\n",
      "Requirement already satisfied: aiolimiter<2.0.0,>=1.1.0 in /Users/flaviajaninebeo/Documents/Virtualenvs/wx-ai-intel-demo/lib/python3.11/site-packages (from ibm-generative-ai) (1.1.0)\n",
      "Requirement already satisfied: deprecated<2.0.0,>=1.2.14 in /Users/flaviajaninebeo/Documents/Virtualenvs/wx-ai-intel-demo/lib/python3.11/site-packages (from ibm-generative-ai) (1.2.14)\n",
      "Requirement already satisfied: httpx<0.28.0,>=0.27.0 in /Users/flaviajaninebeo/Documents/Virtualenvs/wx-ai-intel-demo/lib/python3.11/site-packages (from ibm-generative-ai) (0.27.0)\n",
      "Requirement already satisfied: httpx-sse<0.5.0,>=0.4.0 in /Users/flaviajaninebeo/Documents/Virtualenvs/wx-ai-intel-demo/lib/python3.11/site-packages (from ibm-generative-ai) (0.4.0)\n",
      "Requirement already satisfied: pydantic<3.0.0,>=2.0.0 in /Users/flaviajaninebeo/Documents/Virtualenvs/wx-ai-intel-demo/lib/python3.11/site-packages (from ibm-generative-ai) (2.8.2)\n",
      "Requirement already satisfied: wrapt<2,>=1.10 in /Users/flaviajaninebeo/Documents/Virtualenvs/wx-ai-intel-demo/lib/python3.11/site-packages (from deprecated<2.0.0,>=1.2.14->ibm-generative-ai) (1.16.0)\n",
      "Requirement already satisfied: anyio in /Users/flaviajaninebeo/Documents/Virtualenvs/wx-ai-intel-demo/lib/python3.11/site-packages (from httpx<0.28.0,>=0.27.0->ibm-generative-ai) (4.4.0)\n",
      "Requirement already satisfied: certifi in /Users/flaviajaninebeo/Documents/Virtualenvs/wx-ai-intel-demo/lib/python3.11/site-packages (from httpx<0.28.0,>=0.27.0->ibm-generative-ai) (2024.7.4)\n",
      "Requirement already satisfied: httpcore==1.* in /Users/flaviajaninebeo/Documents/Virtualenvs/wx-ai-intel-demo/lib/python3.11/site-packages (from httpx<0.28.0,>=0.27.0->ibm-generative-ai) (1.0.5)\n",
      "Requirement already satisfied: idna in /Users/flaviajaninebeo/Documents/Virtualenvs/wx-ai-intel-demo/lib/python3.11/site-packages (from httpx<0.28.0,>=0.27.0->ibm-generative-ai) (3.7)\n",
      "Requirement already satisfied: sniffio in /Users/flaviajaninebeo/Documents/Virtualenvs/wx-ai-intel-demo/lib/python3.11/site-packages (from httpx<0.28.0,>=0.27.0->ibm-generative-ai) (1.3.1)\n",
      "Requirement already satisfied: h11<0.15,>=0.13 in /Users/flaviajaninebeo/Documents/Virtualenvs/wx-ai-intel-demo/lib/python3.11/site-packages (from httpcore==1.*->httpx<0.28.0,>=0.27.0->ibm-generative-ai) (0.14.0)\n",
      "Requirement already satisfied: annotated-types>=0.4.0 in /Users/flaviajaninebeo/Documents/Virtualenvs/wx-ai-intel-demo/lib/python3.11/site-packages (from pydantic<3.0.0,>=2.0.0->ibm-generative-ai) (0.7.0)\n",
      "Requirement already satisfied: pydantic-core==2.20.1 in /Users/flaviajaninebeo/Documents/Virtualenvs/wx-ai-intel-demo/lib/python3.11/site-packages (from pydantic<3.0.0,>=2.0.0->ibm-generative-ai) (2.20.1)\n",
      "Requirement already satisfied: typing-extensions>=4.6.1 in /Users/flaviajaninebeo/Documents/Virtualenvs/wx-ai-intel-demo/lib/python3.11/site-packages (from pydantic<3.0.0,>=2.0.0->ibm-generative-ai) (4.12.2)\n",
      "\n",
      "\u001b[1m[\u001b[0m\u001b[34;49mnotice\u001b[0m\u001b[1;39;49m]\u001b[0m\u001b[39;49m A new release of pip is available: \u001b[0m\u001b[31;49m24.1.2\u001b[0m\u001b[39;49m -> \u001b[0m\u001b[32;49m24.2\u001b[0m\n",
      "\u001b[1m[\u001b[0m\u001b[34;49mnotice\u001b[0m\u001b[1;39;49m]\u001b[0m\u001b[39;49m To update, run: \u001b[0m\u001b[32;49mpip install --upgrade pip\u001b[0m\n",
      "Requirement already satisfied: unstructured in /Users/flaviajaninebeo/Documents/Virtualenvs/wx-ai-intel-demo/lib/python3.11/site-packages (0.15.3)\n",
      "Requirement already satisfied: chardet in /Users/flaviajaninebeo/Documents/Virtualenvs/wx-ai-intel-demo/lib/python3.11/site-packages (from unstructured) (5.2.0)\n",
      "Requirement already satisfied: filetype in /Users/flaviajaninebeo/Documents/Virtualenvs/wx-ai-intel-demo/lib/python3.11/site-packages (from unstructured) (1.2.0)\n",
      "Requirement already satisfied: python-magic in /Users/flaviajaninebeo/Documents/Virtualenvs/wx-ai-intel-demo/lib/python3.11/site-packages (from unstructured) (0.4.27)\n",
      "Requirement already satisfied: lxml in /Users/flaviajaninebeo/Documents/Virtualenvs/wx-ai-intel-demo/lib/python3.11/site-packages (from unstructured) (5.3.0)\n",
      "Requirement already satisfied: nltk in /Users/flaviajaninebeo/Documents/Virtualenvs/wx-ai-intel-demo/lib/python3.11/site-packages (from unstructured) (3.8.1)\n",
      "Requirement already satisfied: tabulate in /Users/flaviajaninebeo/Documents/Virtualenvs/wx-ai-intel-demo/lib/python3.11/site-packages (from unstructured) (0.9.0)\n",
      "Requirement already satisfied: requests in /Users/flaviajaninebeo/Documents/Virtualenvs/wx-ai-intel-demo/lib/python3.11/site-packages (from unstructured) (2.32.2)\n",
      "Requirement already satisfied: beautifulsoup4 in /Users/flaviajaninebeo/Documents/Virtualenvs/wx-ai-intel-demo/lib/python3.11/site-packages (from unstructured) (4.12.3)\n",
      "Requirement already satisfied: emoji in /Users/flaviajaninebeo/Documents/Virtualenvs/wx-ai-intel-demo/lib/python3.11/site-packages (from unstructured) (2.12.1)\n",
      "Requirement already satisfied: dataclasses-json in /Users/flaviajaninebeo/Documents/Virtualenvs/wx-ai-intel-demo/lib/python3.11/site-packages (from unstructured) (0.6.7)\n",
      "Requirement already satisfied: python-iso639 in /Users/flaviajaninebeo/Documents/Virtualenvs/wx-ai-intel-demo/lib/python3.11/site-packages (from unstructured) (2024.4.27)\n",
      "Requirement already satisfied: langdetect in /Users/flaviajaninebeo/Documents/Virtualenvs/wx-ai-intel-demo/lib/python3.11/site-packages (from unstructured) (1.0.9)\n",
      "Requirement already satisfied: numpy<2 in /Users/flaviajaninebeo/Documents/Virtualenvs/wx-ai-intel-demo/lib/python3.11/site-packages (from unstructured) (1.26.4)\n",
      "Requirement already satisfied: rapidfuzz in /Users/flaviajaninebeo/Documents/Virtualenvs/wx-ai-intel-demo/lib/python3.11/site-packages (from unstructured) (3.9.6)\n",
      "Requirement already satisfied: backoff in /Users/flaviajaninebeo/Documents/Virtualenvs/wx-ai-intel-demo/lib/python3.11/site-packages (from unstructured) (2.2.1)\n",
      "Requirement already satisfied: typing-extensions in /Users/flaviajaninebeo/Documents/Virtualenvs/wx-ai-intel-demo/lib/python3.11/site-packages (from unstructured) (4.12.2)\n",
      "Requirement already satisfied: unstructured-client in /Users/flaviajaninebeo/Documents/Virtualenvs/wx-ai-intel-demo/lib/python3.11/site-packages (from unstructured) (0.25.5)\n",
      "Requirement already satisfied: wrapt in /Users/flaviajaninebeo/Documents/Virtualenvs/wx-ai-intel-demo/lib/python3.11/site-packages (from unstructured) (1.16.0)\n",
      "Requirement already satisfied: tqdm in /Users/flaviajaninebeo/Documents/Virtualenvs/wx-ai-intel-demo/lib/python3.11/site-packages (from unstructured) (4.66.5)\n",
      "Requirement already satisfied: psutil in /Users/flaviajaninebeo/Documents/Virtualenvs/wx-ai-intel-demo/lib/python3.11/site-packages (from unstructured) (6.0.0)\n",
      "Requirement already satisfied: soupsieve>1.2 in /Users/flaviajaninebeo/Documents/Virtualenvs/wx-ai-intel-demo/lib/python3.11/site-packages (from beautifulsoup4->unstructured) (2.6)\n",
      "Requirement already satisfied: marshmallow<4.0.0,>=3.18.0 in /Users/flaviajaninebeo/Documents/Virtualenvs/wx-ai-intel-demo/lib/python3.11/site-packages (from dataclasses-json->unstructured) (3.21.3)\n",
      "Requirement already satisfied: typing-inspect<1,>=0.4.0 in /Users/flaviajaninebeo/Documents/Virtualenvs/wx-ai-intel-demo/lib/python3.11/site-packages (from dataclasses-json->unstructured) (0.9.0)\n",
      "Requirement already satisfied: six in /Users/flaviajaninebeo/Documents/Virtualenvs/wx-ai-intel-demo/lib/python3.11/site-packages (from langdetect->unstructured) (1.16.0)\n",
      "Requirement already satisfied: click in /Users/flaviajaninebeo/Documents/Virtualenvs/wx-ai-intel-demo/lib/python3.11/site-packages (from nltk->unstructured) (8.1.7)\n",
      "Requirement already satisfied: joblib in /Users/flaviajaninebeo/Documents/Virtualenvs/wx-ai-intel-demo/lib/python3.11/site-packages (from nltk->unstructured) (1.4.2)\n",
      "Requirement already satisfied: regex>=2021.8.3 in /Users/flaviajaninebeo/Documents/Virtualenvs/wx-ai-intel-demo/lib/python3.11/site-packages (from nltk->unstructured) (2024.7.24)\n",
      "Requirement already satisfied: charset-normalizer<4,>=2 in /Users/flaviajaninebeo/Documents/Virtualenvs/wx-ai-intel-demo/lib/python3.11/site-packages (from requests->unstructured) (3.3.2)\n",
      "Requirement already satisfied: idna<4,>=2.5 in /Users/flaviajaninebeo/Documents/Virtualenvs/wx-ai-intel-demo/lib/python3.11/site-packages (from requests->unstructured) (3.7)\n",
      "Requirement already satisfied: urllib3<3,>=1.21.1 in /Users/flaviajaninebeo/Documents/Virtualenvs/wx-ai-intel-demo/lib/python3.11/site-packages (from requests->unstructured) (2.2.2)\n",
      "Requirement already satisfied: certifi>=2017.4.17 in /Users/flaviajaninebeo/Documents/Virtualenvs/wx-ai-intel-demo/lib/python3.11/site-packages (from requests->unstructured) (2024.7.4)\n",
      "Requirement already satisfied: deepdiff>=6.0 in /Users/flaviajaninebeo/Documents/Virtualenvs/wx-ai-intel-demo/lib/python3.11/site-packages (from unstructured-client->unstructured) (7.0.1)\n",
      "Requirement already satisfied: httpx>=0.27.0 in /Users/flaviajaninebeo/Documents/Virtualenvs/wx-ai-intel-demo/lib/python3.11/site-packages (from unstructured-client->unstructured) (0.27.0)\n",
      "Requirement already satisfied: jsonpath-python>=1.0.6 in /Users/flaviajaninebeo/Documents/Virtualenvs/wx-ai-intel-demo/lib/python3.11/site-packages (from unstructured-client->unstructured) (1.0.6)\n",
      "Requirement already satisfied: mypy-extensions>=1.0.0 in /Users/flaviajaninebeo/Documents/Virtualenvs/wx-ai-intel-demo/lib/python3.11/site-packages (from unstructured-client->unstructured) (1.0.0)\n",
      "Requirement already satisfied: nest-asyncio>=1.6.0 in /Users/flaviajaninebeo/Documents/Virtualenvs/wx-ai-intel-demo/lib/python3.11/site-packages (from unstructured-client->unstructured) (1.6.0)\n",
      "Requirement already satisfied: packaging>=23.1 in /Users/flaviajaninebeo/Documents/Virtualenvs/wx-ai-intel-demo/lib/python3.11/site-packages (from unstructured-client->unstructured) (24.1)\n",
      "Requirement already satisfied: pypdf>=4.0 in /Users/flaviajaninebeo/Documents/Virtualenvs/wx-ai-intel-demo/lib/python3.11/site-packages (from unstructured-client->unstructured) (4.3.1)\n",
      "Requirement already satisfied: python-dateutil>=2.8.2 in /Users/flaviajaninebeo/Documents/Virtualenvs/wx-ai-intel-demo/lib/python3.11/site-packages (from unstructured-client->unstructured) (2.9.0.post0)\n",
      "Requirement already satisfied: requests-toolbelt>=1.0.0 in /Users/flaviajaninebeo/Documents/Virtualenvs/wx-ai-intel-demo/lib/python3.11/site-packages (from unstructured-client->unstructured) (1.0.0)\n",
      "Requirement already satisfied: ordered-set<4.2.0,>=4.1.0 in /Users/flaviajaninebeo/Documents/Virtualenvs/wx-ai-intel-demo/lib/python3.11/site-packages (from deepdiff>=6.0->unstructured-client->unstructured) (4.1.0)\n",
      "Requirement already satisfied: anyio in /Users/flaviajaninebeo/Documents/Virtualenvs/wx-ai-intel-demo/lib/python3.11/site-packages (from httpx>=0.27.0->unstructured-client->unstructured) (4.4.0)\n",
      "Requirement already satisfied: httpcore==1.* in /Users/flaviajaninebeo/Documents/Virtualenvs/wx-ai-intel-demo/lib/python3.11/site-packages (from httpx>=0.27.0->unstructured-client->unstructured) (1.0.5)\n",
      "Requirement already satisfied: sniffio in /Users/flaviajaninebeo/Documents/Virtualenvs/wx-ai-intel-demo/lib/python3.11/site-packages (from httpx>=0.27.0->unstructured-client->unstructured) (1.3.1)\n",
      "Requirement already satisfied: h11<0.15,>=0.13 in /Users/flaviajaninebeo/Documents/Virtualenvs/wx-ai-intel-demo/lib/python3.11/site-packages (from httpcore==1.*->httpx>=0.27.0->unstructured-client->unstructured) (0.14.0)\n",
      "\n",
      "\u001b[1m[\u001b[0m\u001b[34;49mnotice\u001b[0m\u001b[1;39;49m]\u001b[0m\u001b[39;49m A new release of pip is available: \u001b[0m\u001b[31;49m24.1.2\u001b[0m\u001b[39;49m -> \u001b[0m\u001b[32;49m24.2\u001b[0m\n",
      "\u001b[1m[\u001b[0m\u001b[34;49mnotice\u001b[0m\u001b[1;39;49m]\u001b[0m\u001b[39;49m To update, run: \u001b[0m\u001b[32;49mpip install --upgrade pip\u001b[0m\n",
      "Requirement already satisfied: huggingface-hub in /Users/flaviajaninebeo/Documents/Virtualenvs/wx-ai-intel-demo/lib/python3.11/site-packages (0.24.5)\n",
      "Requirement already satisfied: filelock in /Users/flaviajaninebeo/Documents/Virtualenvs/wx-ai-intel-demo/lib/python3.11/site-packages (from huggingface-hub) (3.15.4)\n",
      "Requirement already satisfied: fsspec>=2023.5.0 in /Users/flaviajaninebeo/Documents/Virtualenvs/wx-ai-intel-demo/lib/python3.11/site-packages (from huggingface-hub) (2024.6.1)\n",
      "Requirement already satisfied: packaging>=20.9 in /Users/flaviajaninebeo/Documents/Virtualenvs/wx-ai-intel-demo/lib/python3.11/site-packages (from huggingface-hub) (24.1)\n",
      "Requirement already satisfied: pyyaml>=5.1 in /Users/flaviajaninebeo/Documents/Virtualenvs/wx-ai-intel-demo/lib/python3.11/site-packages (from huggingface-hub) (6.0.2)\n",
      "Requirement already satisfied: requests in /Users/flaviajaninebeo/Documents/Virtualenvs/wx-ai-intel-demo/lib/python3.11/site-packages (from huggingface-hub) (2.32.2)\n",
      "Requirement already satisfied: tqdm>=4.42.1 in /Users/flaviajaninebeo/Documents/Virtualenvs/wx-ai-intel-demo/lib/python3.11/site-packages (from huggingface-hub) (4.66.5)\n",
      "Requirement already satisfied: typing-extensions>=3.7.4.3 in /Users/flaviajaninebeo/Documents/Virtualenvs/wx-ai-intel-demo/lib/python3.11/site-packages (from huggingface-hub) (4.12.2)\n",
      "Requirement already satisfied: charset-normalizer<4,>=2 in /Users/flaviajaninebeo/Documents/Virtualenvs/wx-ai-intel-demo/lib/python3.11/site-packages (from requests->huggingface-hub) (3.3.2)\n",
      "Requirement already satisfied: idna<4,>=2.5 in /Users/flaviajaninebeo/Documents/Virtualenvs/wx-ai-intel-demo/lib/python3.11/site-packages (from requests->huggingface-hub) (3.7)\n",
      "Requirement already satisfied: urllib3<3,>=1.21.1 in /Users/flaviajaninebeo/Documents/Virtualenvs/wx-ai-intel-demo/lib/python3.11/site-packages (from requests->huggingface-hub) (2.2.2)\n",
      "Requirement already satisfied: certifi>=2017.4.17 in /Users/flaviajaninebeo/Documents/Virtualenvs/wx-ai-intel-demo/lib/python3.11/site-packages (from requests->huggingface-hub) (2024.7.4)\n",
      "\n",
      "\u001b[1m[\u001b[0m\u001b[34;49mnotice\u001b[0m\u001b[1;39;49m]\u001b[0m\u001b[39;49m A new release of pip is available: \u001b[0m\u001b[31;49m24.1.2\u001b[0m\u001b[39;49m -> \u001b[0m\u001b[32;49m24.2\u001b[0m\n",
      "\u001b[1m[\u001b[0m\u001b[34;49mnotice\u001b[0m\u001b[1;39;49m]\u001b[0m\u001b[39;49m To update, run: \u001b[0m\u001b[32;49mpip install --upgrade pip\u001b[0m\n",
      "Requirement already satisfied: sentence-transformers in /Users/flaviajaninebeo/Documents/Virtualenvs/wx-ai-intel-demo/lib/python3.11/site-packages (3.0.1)\n",
      "Requirement already satisfied: transformers<5.0.0,>=4.34.0 in /Users/flaviajaninebeo/Documents/Virtualenvs/wx-ai-intel-demo/lib/python3.11/site-packages (from sentence-transformers) (4.44.0)\n",
      "Requirement already satisfied: tqdm in /Users/flaviajaninebeo/Documents/Virtualenvs/wx-ai-intel-demo/lib/python3.11/site-packages (from sentence-transformers) (4.66.5)\n",
      "Requirement already satisfied: torch>=1.11.0 in /Users/flaviajaninebeo/Documents/Virtualenvs/wx-ai-intel-demo/lib/python3.11/site-packages (from sentence-transformers) (2.4.0)\n",
      "Requirement already satisfied: numpy in /Users/flaviajaninebeo/Documents/Virtualenvs/wx-ai-intel-demo/lib/python3.11/site-packages (from sentence-transformers) (1.26.4)\n",
      "Requirement already satisfied: scikit-learn in /Users/flaviajaninebeo/Documents/Virtualenvs/wx-ai-intel-demo/lib/python3.11/site-packages (from sentence-transformers) (1.5.1)\n",
      "Requirement already satisfied: scipy in /Users/flaviajaninebeo/Documents/Virtualenvs/wx-ai-intel-demo/lib/python3.11/site-packages (from sentence-transformers) (1.14.0)\n",
      "Requirement already satisfied: huggingface-hub>=0.15.1 in /Users/flaviajaninebeo/Documents/Virtualenvs/wx-ai-intel-demo/lib/python3.11/site-packages (from sentence-transformers) (0.24.5)\n",
      "Requirement already satisfied: Pillow in /Users/flaviajaninebeo/Documents/Virtualenvs/wx-ai-intel-demo/lib/python3.11/site-packages (from sentence-transformers) (10.4.0)\n",
      "Requirement already satisfied: filelock in /Users/flaviajaninebeo/Documents/Virtualenvs/wx-ai-intel-demo/lib/python3.11/site-packages (from huggingface-hub>=0.15.1->sentence-transformers) (3.15.4)\n",
      "Requirement already satisfied: fsspec>=2023.5.0 in /Users/flaviajaninebeo/Documents/Virtualenvs/wx-ai-intel-demo/lib/python3.11/site-packages (from huggingface-hub>=0.15.1->sentence-transformers) (2024.6.1)\n",
      "Requirement already satisfied: packaging>=20.9 in /Users/flaviajaninebeo/Documents/Virtualenvs/wx-ai-intel-demo/lib/python3.11/site-packages (from huggingface-hub>=0.15.1->sentence-transformers) (24.1)\n",
      "Requirement already satisfied: pyyaml>=5.1 in /Users/flaviajaninebeo/Documents/Virtualenvs/wx-ai-intel-demo/lib/python3.11/site-packages (from huggingface-hub>=0.15.1->sentence-transformers) (6.0.2)\n",
      "Requirement already satisfied: requests in /Users/flaviajaninebeo/Documents/Virtualenvs/wx-ai-intel-demo/lib/python3.11/site-packages (from huggingface-hub>=0.15.1->sentence-transformers) (2.32.2)\n",
      "Requirement already satisfied: typing-extensions>=3.7.4.3 in /Users/flaviajaninebeo/Documents/Virtualenvs/wx-ai-intel-demo/lib/python3.11/site-packages (from huggingface-hub>=0.15.1->sentence-transformers) (4.12.2)\n",
      "Requirement already satisfied: sympy in /Users/flaviajaninebeo/Documents/Virtualenvs/wx-ai-intel-demo/lib/python3.11/site-packages (from torch>=1.11.0->sentence-transformers) (1.13.2)\n",
      "Requirement already satisfied: networkx in /Users/flaviajaninebeo/Documents/Virtualenvs/wx-ai-intel-demo/lib/python3.11/site-packages (from torch>=1.11.0->sentence-transformers) (3.3)\n",
      "Requirement already satisfied: jinja2 in /Users/flaviajaninebeo/Documents/Virtualenvs/wx-ai-intel-demo/lib/python3.11/site-packages (from torch>=1.11.0->sentence-transformers) (3.1.4)\n",
      "Requirement already satisfied: regex!=2019.12.17 in /Users/flaviajaninebeo/Documents/Virtualenvs/wx-ai-intel-demo/lib/python3.11/site-packages (from transformers<5.0.0,>=4.34.0->sentence-transformers) (2024.7.24)\n",
      "Requirement already satisfied: safetensors>=0.4.1 in /Users/flaviajaninebeo/Documents/Virtualenvs/wx-ai-intel-demo/lib/python3.11/site-packages (from transformers<5.0.0,>=4.34.0->sentence-transformers) (0.4.4)\n",
      "Requirement already satisfied: tokenizers<0.20,>=0.19 in /Users/flaviajaninebeo/Documents/Virtualenvs/wx-ai-intel-demo/lib/python3.11/site-packages (from transformers<5.0.0,>=4.34.0->sentence-transformers) (0.19.1)\n",
      "Requirement already satisfied: joblib>=1.2.0 in /Users/flaviajaninebeo/Documents/Virtualenvs/wx-ai-intel-demo/lib/python3.11/site-packages (from scikit-learn->sentence-transformers) (1.4.2)\n",
      "Requirement already satisfied: threadpoolctl>=3.1.0 in /Users/flaviajaninebeo/Documents/Virtualenvs/wx-ai-intel-demo/lib/python3.11/site-packages (from scikit-learn->sentence-transformers) (3.5.0)\n",
      "Requirement already satisfied: MarkupSafe>=2.0 in /Users/flaviajaninebeo/Documents/Virtualenvs/wx-ai-intel-demo/lib/python3.11/site-packages (from jinja2->torch>=1.11.0->sentence-transformers) (2.1.5)\n",
      "Requirement already satisfied: charset-normalizer<4,>=2 in /Users/flaviajaninebeo/Documents/Virtualenvs/wx-ai-intel-demo/lib/python3.11/site-packages (from requests->huggingface-hub>=0.15.1->sentence-transformers) (3.3.2)\n",
      "Requirement already satisfied: idna<4,>=2.5 in /Users/flaviajaninebeo/Documents/Virtualenvs/wx-ai-intel-demo/lib/python3.11/site-packages (from requests->huggingface-hub>=0.15.1->sentence-transformers) (3.7)\n",
      "Requirement already satisfied: urllib3<3,>=1.21.1 in /Users/flaviajaninebeo/Documents/Virtualenvs/wx-ai-intel-demo/lib/python3.11/site-packages (from requests->huggingface-hub>=0.15.1->sentence-transformers) (2.2.2)\n",
      "Requirement already satisfied: certifi>=2017.4.17 in /Users/flaviajaninebeo/Documents/Virtualenvs/wx-ai-intel-demo/lib/python3.11/site-packages (from requests->huggingface-hub>=0.15.1->sentence-transformers) (2024.7.4)\n",
      "Requirement already satisfied: mpmath<1.4,>=1.1.0 in /Users/flaviajaninebeo/Documents/Virtualenvs/wx-ai-intel-demo/lib/python3.11/site-packages (from sympy->torch>=1.11.0->sentence-transformers) (1.3.0)\n",
      "\n",
      "\u001b[1m[\u001b[0m\u001b[34;49mnotice\u001b[0m\u001b[1;39;49m]\u001b[0m\u001b[39;49m A new release of pip is available: \u001b[0m\u001b[31;49m24.1.2\u001b[0m\u001b[39;49m -> \u001b[0m\u001b[32;49m24.2\u001b[0m\n",
      "\u001b[1m[\u001b[0m\u001b[34;49mnotice\u001b[0m\u001b[1;39;49m]\u001b[0m\u001b[39;49m To update, run: \u001b[0m\u001b[32;49mpip install --upgrade pip\u001b[0m\n",
      "Requirement already satisfied: ibm_watsonx_ai in /Users/flaviajaninebeo/Documents/Virtualenvs/wx-ai-intel-demo/lib/python3.11/site-packages (1.1.6)\n",
      "Requirement already satisfied: requests in /Users/flaviajaninebeo/Documents/Virtualenvs/wx-ai-intel-demo/lib/python3.11/site-packages (from ibm_watsonx_ai) (2.32.2)\n",
      "Requirement already satisfied: httpx in /Users/flaviajaninebeo/Documents/Virtualenvs/wx-ai-intel-demo/lib/python3.11/site-packages (from ibm_watsonx_ai) (0.27.0)\n",
      "Requirement already satisfied: urllib3 in /Users/flaviajaninebeo/Documents/Virtualenvs/wx-ai-intel-demo/lib/python3.11/site-packages (from ibm_watsonx_ai) (2.2.2)\n",
      "Requirement already satisfied: pandas<2.2.0,>=0.24.2 in /Users/flaviajaninebeo/Documents/Virtualenvs/wx-ai-intel-demo/lib/python3.11/site-packages (from ibm_watsonx_ai) (2.1.4)\n",
      "Requirement already satisfied: certifi in /Users/flaviajaninebeo/Documents/Virtualenvs/wx-ai-intel-demo/lib/python3.11/site-packages (from ibm_watsonx_ai) (2024.7.4)\n",
      "Requirement already satisfied: lomond in /Users/flaviajaninebeo/Documents/Virtualenvs/wx-ai-intel-demo/lib/python3.11/site-packages (from ibm_watsonx_ai) (0.3.3)\n",
      "Requirement already satisfied: tabulate in /Users/flaviajaninebeo/Documents/Virtualenvs/wx-ai-intel-demo/lib/python3.11/site-packages (from ibm_watsonx_ai) (0.9.0)\n",
      "Requirement already satisfied: packaging in /Users/flaviajaninebeo/Documents/Virtualenvs/wx-ai-intel-demo/lib/python3.11/site-packages (from ibm_watsonx_ai) (24.1)\n",
      "Requirement already satisfied: ibm-cos-sdk<2.14.0,>=2.12.0 in /Users/flaviajaninebeo/Documents/Virtualenvs/wx-ai-intel-demo/lib/python3.11/site-packages (from ibm_watsonx_ai) (2.13.6)\n",
      "Requirement already satisfied: importlib-metadata in /Users/flaviajaninebeo/Documents/Virtualenvs/wx-ai-intel-demo/lib/python3.11/site-packages (from ibm_watsonx_ai) (8.2.0)\n",
      "Requirement already satisfied: ibm-cos-sdk-core==2.13.6 in /Users/flaviajaninebeo/Documents/Virtualenvs/wx-ai-intel-demo/lib/python3.11/site-packages (from ibm-cos-sdk<2.14.0,>=2.12.0->ibm_watsonx_ai) (2.13.6)\n",
      "Requirement already satisfied: ibm-cos-sdk-s3transfer==2.13.6 in /Users/flaviajaninebeo/Documents/Virtualenvs/wx-ai-intel-demo/lib/python3.11/site-packages (from ibm-cos-sdk<2.14.0,>=2.12.0->ibm_watsonx_ai) (2.13.6)\n",
      "Requirement already satisfied: jmespath<=1.0.1,>=0.10.0 in /Users/flaviajaninebeo/Documents/Virtualenvs/wx-ai-intel-demo/lib/python3.11/site-packages (from ibm-cos-sdk<2.14.0,>=2.12.0->ibm_watsonx_ai) (1.0.1)\n",
      "Requirement already satisfied: python-dateutil<3.0.0,>=2.9.0 in /Users/flaviajaninebeo/Documents/Virtualenvs/wx-ai-intel-demo/lib/python3.11/site-packages (from ibm-cos-sdk-core==2.13.6->ibm-cos-sdk<2.14.0,>=2.12.0->ibm_watsonx_ai) (2.9.0.post0)\n",
      "Requirement already satisfied: numpy<2,>=1.23.2 in /Users/flaviajaninebeo/Documents/Virtualenvs/wx-ai-intel-demo/lib/python3.11/site-packages (from pandas<2.2.0,>=0.24.2->ibm_watsonx_ai) (1.26.4)\n",
      "Requirement already satisfied: pytz>=2020.1 in /Users/flaviajaninebeo/Documents/Virtualenvs/wx-ai-intel-demo/lib/python3.11/site-packages (from pandas<2.2.0,>=0.24.2->ibm_watsonx_ai) (2024.1)\n",
      "Requirement already satisfied: tzdata>=2022.1 in /Users/flaviajaninebeo/Documents/Virtualenvs/wx-ai-intel-demo/lib/python3.11/site-packages (from pandas<2.2.0,>=0.24.2->ibm_watsonx_ai) (2024.1)\n",
      "Requirement already satisfied: charset-normalizer<4,>=2 in /Users/flaviajaninebeo/Documents/Virtualenvs/wx-ai-intel-demo/lib/python3.11/site-packages (from requests->ibm_watsonx_ai) (3.3.2)\n",
      "Requirement already satisfied: idna<4,>=2.5 in /Users/flaviajaninebeo/Documents/Virtualenvs/wx-ai-intel-demo/lib/python3.11/site-packages (from requests->ibm_watsonx_ai) (3.7)\n",
      "Requirement already satisfied: anyio in /Users/flaviajaninebeo/Documents/Virtualenvs/wx-ai-intel-demo/lib/python3.11/site-packages (from httpx->ibm_watsonx_ai) (4.4.0)\n",
      "Requirement already satisfied: httpcore==1.* in /Users/flaviajaninebeo/Documents/Virtualenvs/wx-ai-intel-demo/lib/python3.11/site-packages (from httpx->ibm_watsonx_ai) (1.0.5)\n",
      "Requirement already satisfied: sniffio in /Users/flaviajaninebeo/Documents/Virtualenvs/wx-ai-intel-demo/lib/python3.11/site-packages (from httpx->ibm_watsonx_ai) (1.3.1)\n",
      "Requirement already satisfied: h11<0.15,>=0.13 in /Users/flaviajaninebeo/Documents/Virtualenvs/wx-ai-intel-demo/lib/python3.11/site-packages (from httpcore==1.*->httpx->ibm_watsonx_ai) (0.14.0)\n",
      "Requirement already satisfied: zipp>=0.5 in /Users/flaviajaninebeo/Documents/Virtualenvs/wx-ai-intel-demo/lib/python3.11/site-packages (from importlib-metadata->ibm_watsonx_ai) (3.20.0)\n",
      "Requirement already satisfied: six>=1.10.0 in /Users/flaviajaninebeo/Documents/Virtualenvs/wx-ai-intel-demo/lib/python3.11/site-packages (from lomond->ibm_watsonx_ai) (1.16.0)\n",
      "\n",
      "\u001b[1m[\u001b[0m\u001b[34;49mnotice\u001b[0m\u001b[1;39;49m]\u001b[0m\u001b[39;49m A new release of pip is available: \u001b[0m\u001b[31;49m24.1.2\u001b[0m\u001b[39;49m -> \u001b[0m\u001b[32;49m24.2\u001b[0m\n",
      "\u001b[1m[\u001b[0m\u001b[34;49mnotice\u001b[0m\u001b[1;39;49m]\u001b[0m\u001b[39;49m To update, run: \u001b[0m\u001b[32;49mpip install --upgrade pip\u001b[0m\n"
     ]
    }
   ],
   "source": [
    "# ! conda create -y -n milvus python=3.10\n",
    "\n",
    "! pip install pymilvus==2.4.0\n",
    "! pip install langchain\n",
    "! pip install ibm-generative-ai\n",
    "! pip install unstructured\n",
    "! pip install huggingface-hub\n",
    "! pip install sentence-transformers\n",
    "! pip install ibm_watsonx_ai"
   ]
  },
  {
   "cell_type": "code",
   "execution_count": 2,
   "metadata": {},
   "outputs": [
    {
     "data": {
      "text/plain": [
       "False"
      ]
     },
     "execution_count": 2,
     "metadata": {},
     "output_type": "execute_result"
    }
   ],
   "source": [
    "import os\n",
    "import requests\n",
    "import json\n",
    "\n",
    "from dotenv import load_dotenv\n",
    "\n",
    "from langchain_community.document_loaders import UnstructuredURLLoader\n",
    "\n",
    "from langchain.text_splitter import CharacterTextSplitter\n",
    "from langchain_community.vectorstores import Milvus\n",
    "\n",
    "from langchain.prompts import PromptTemplate\n",
    "from langchain.callbacks.base import BaseCallbackHandler\n",
    "\n",
    "# BAM\n",
    "from genai.extensions.langchain import LangChainInterface\n",
    "from genai.credentials import Credentials\n",
    "from genai import Client\n",
    "\n",
    "from genai.schema import TextGenerationParameters\n",
    "\n",
    "from ibm_watsonx_ai.foundation_models import Embeddings\n",
    "\n",
    "load_dotenv() "
   ]
  },
  {
   "cell_type": "code",
   "execution_count": 3,
   "metadata": {},
   "outputs": [],
   "source": [
    "token = \"\"\n",
    "project_id = \"\""
   ]
  },
  {
   "cell_type": "code",
   "execution_count": 4,
   "metadata": {},
   "outputs": [
    {
     "data": {
      "text/plain": [
       "['gogo']"
      ]
     },
     "execution_count": 4,
     "metadata": {},
     "output_type": "execute_result"
    }
   ],
   "source": [
    "text_splitter = CharacterTextSplitter(chunk_size=2000, chunk_overlap=0)\n",
    "text_splitter.split_text(\"gogo\")"
   ]
  },
  {
   "cell_type": "code",
   "execution_count": 5,
   "metadata": {},
   "outputs": [
    {
     "data": {
      "text/plain": [
       "<ibm_watsonx_ai.foundation_models.embeddings.embeddings.Embeddings at 0x308b6ba10>"
      ]
     },
     "execution_count": 5,
     "metadata": {},
     "output_type": "execute_result"
    }
   ],
   "source": [
    "embedding_model = Embeddings(\n",
    "            model_id=\"ibm/slate-125m-english-rtrvr\",\n",
    "            credentials={\"api_key\": token, \"url\": \"https://us-south.ml.cloud.ibm.com\"},\n",
    "            project_id=project_id,\n",
    "            params={\n",
    "                \"truncate_input_tokens\": 512\n",
    "            }\n",
    "        )\n",
    "embedding_model"
   ]
  },
  {
   "cell_type": "code",
   "execution_count": 6,
   "metadata": {},
   "outputs": [],
   "source": [
    "# INITIALIZE A MILVUS COLLECTION WITH EMBEDDINGS FROM A SET OF DOCUMENTS\n",
    "\n",
    "urls = [\n",
    "    \"https://en.wikipedia.org/wiki/Harry_Potter_(film_series)\",\n",
    "]\n",
    "\n",
    "loader = UnstructuredURLLoader(urls=urls)\n",
    "data = loader.load()"
   ]
  },
  {
   "cell_type": "code",
   "execution_count": 7,
   "metadata": {},
   "outputs": [
    {
     "name": "stderr",
     "output_type": "stream",
     "text": [
      "Created a chunk of size 3646, which is longer than the specified 2000\n",
      "Created a chunk of size 2773, which is longer than the specified 2000\n"
     ]
    }
   ],
   "source": [
    "\n",
    "text_splitter = CharacterTextSplitter(chunk_size=2000, chunk_overlap=0)\n",
    "docs = text_splitter.split_documents(data)\n",
    "\n",
    "vector_db = Milvus.from_documents(\n",
    "    docs,\n",
    "    embedding_model,\n",
    "    drop_old=True,  # Drop the old Milvus collection if it exists\n",
    "    connection_args={\"host\":\"7aff4bea-4196-42e0-a9b7-bed85680916f.cie9agrw03kb77s3pr1g.lakehouse.appdomain.cloud\", \n",
    "                     \"port\":\"30141\", \"secure\":True,\n",
    "                     \"user\":\"ibmlhapikey\", \"password\": token},\n",
    ")"
   ]
  },
  {
   "cell_type": "code",
   "execution_count": 8,
   "metadata": {},
   "outputs": [
    {
     "data": {
      "text/plain": [
       "[Document(metadata={'source': 'https://en.wikipedia.org/wiki/Harry_Potter_(film_series)', 'pk': 452343555843950117}, page_content=\"Harry Potter is a film series based on the Harry Potter series of novels by J. K. Rowling. The series was produced and distributed by Warner Bros. Pictures and consists of eight fantasy films, beginning with Harry Potter and the Philosopher's Stone (2001) and culminating with Harry Potter and the Deathly Hallows – Part 2 (2011).[2][3] A spin-off prequel series started with Fantastic Beasts and Where to Find Them (2016), marking the beginning of the Wizarding World shared media franchise.[4]\\n\\nThe series was mainly produced by David Heyman, and stars Daniel Radcliffe, Rupert Grint, and Emma Watson as the three leading characters: Harry Potter, Ron Weasley, and Hermione Granger. Four directors worked on the series: Chris Columbus, Alfonso Cuarón, Mike Newell, and David Yates.[5] Michael Goldenberg wrote the screenplay for Harry Potter and the Order of the Phoenix (2007), while the remaining films' screenplays were written by Steve Kloves. Production took place over ten years, with the main story arc following Harry's quest to overcome his arch-enemy Lord Voldemort.[6]\\n\\nHarry Potter and the Deathly Hallows, the seventh and final novel in the series, was adapted into two feature-length parts.[7] Part 1 was released in November 2010, and Part 2 was released in July 2011.[8][9]\\n\\nDeathly Hallows – Part 2 is among the 50 highest-grossing films of all time—at 18th-highest, grossing over $1 billion. It is the fourth-highest-grossing film series, with $7.7 billion in worldwide receipts.\\n\\nOrigins\"),\n",
       " Document(metadata={'source': 'https://en.wikipedia.org/wiki/Harry_Potter_(film_series)', 'pk': 452343555843950136}, page_content=\"The rights for the first four novels in the series were sold to Warner Bros. for £1,000,000 by J.K. Rowling. After the release of the fourth book in July 2000, the first film, Harry Potter and the Philosopher's Stone, was released on 16 November 2001. In its opening weekend, the film grossed $90 million in the United States alone, which set a record opening worldwide. The succeeding three motion picture adaptations followed suit in financial success, while garnering positive reviews from fans and critics. The fifth film, Harry Potter and the Order of the Phoenix, was released by Warner Bros. on 11 July 2007 in English-speaking countries, except for the UK and Ireland, which released the movie on 12 July.[73] The sixth, Harry Potter and the Half-Blood Prince, was released on 15 July 2009 to critical acclaim and finished its theatrical run ranked as the number two grossing film of 2009 on the worldwide charts.\\n\\nThe final novel, Harry Potter and the Deathly Hallows, was split into two cinematic parts: Part 1 was released on 19 November 2010, and Part 2, the conclusion to both the final film and the series, was released on 15 July 2011.[74] Part 1 was originally scheduled to be released in 3D and 2D,[75] but due to a delay in the 3D conversion process, Warner Bros. released the film only in 2D and IMAX cinemas. However, Part 2 was released in 2D and 3D cinemas as originally planned.[76]\\n\\nThe television broadcast rights for the series in the US are currently held by NBCUniversal, which typically airs the films on USA Network and Syfy.[77] The film series has accrued nearly 1.3 billion viewings since its television debut—the highest-watched franchise in television broadcast history.[78] All eight films became available to stream exclusively on HBO Max on 27 May 2020, the launch date of the service.[79]\"),\n",
       " Document(metadata={'source': 'https://en.wikipedia.org/wiki/Harry_Potter_(film_series)', 'pk': 452343555843950137}, page_content='In celebration of the 20th anniversary of the release of Philosopher\\'s Stone, in November 2021, it was announced that the entire film series would be relaunched in cinemas in Brazil, as well as a special edition of Philosopher\\'s Stone on HBO Max.[80] Much of the original cast and crew reunited for an HBO Max retrospective special titled Harry Potter 20th Anniversary: Return to Hogwarts, released on 1 January 2022.[81]\\n\\nReception\\n\\nThe Harry Potter films have been top-rank box office hits, with all eight releases on the list of highest-grossing films worldwide. Philosopher\\'s Stone was the highest-grossing Harry Potter film up until the release of the final instalment of the series, Deathly Hallows Part 2, while Prisoner of Azkaban grossed the least.[82] As well as being a financial success, the film series has also been a success among film critics.[83][84] Opinions of the films are generally divided among fans, with one group preferring the more faithful approach of the first two films, and another group preferring the more stylised character-driven approach of the later films.[85] Rowling has been consistently supportive of all the films and evaluated Deathly Hallows as her \"favourite one\" in the series.[86][87][88]\\n\\nCritical response\\n\\nAll the films have been a success financially and critically, making the franchise one of the major Hollywood \"tent-poles\" akin to James Bond, Star Wars, Indiana Jones and Pirates of the Caribbean. The series is noted by audiences for growing visually darker and more mature as each film was released.[32][89] However, opinions of the films generally divide book fans, with some preferring the more faithful approach of the first two films and others preferring the more stylised character-driven approach of the later films.'),\n",
       " Document(metadata={'source': 'https://en.wikipedia.org/wiki/Harry_Potter_(film_series)', 'pk': 452343555843950146}, page_content='The Harry Potter films and their success have been retrospectively considered to have had a significant impact on the film industry. They are credited with helping redefine the Hollywood blockbuster in the 21st century by initiating a shift toward established media franchises forming the basis of successful films. In the wake of the final film\\'s release, Claudia Puig of USA Today wrote that the films \"inspired every major studio to try to capture [its] alchemic formula, spawning a range of copycats and wannabes\" and \"also have shown Hollywood how to make a glossy blockbuster with an eye toward keeping costs down\".[161] A 2009 article from The Economist argued that the films were \"in the vanguard\" of adaptations of established properties being the modern film franchise model, citing The Lord of the Rings, Spider-Man and The Dark Knight Trilogy as examples of successful film series that followed Harry Potter\\'s suit.[160] Furthermore, the practice of splitting the finale of a film series into two back-to-back films began with the success of Deathly Hallows, and it would soon be replicated by The Twilight Saga: Breaking Dawn – Parts 1 and 2, and The Hunger Games: Mockingjay – Parts 1 and 2.[162]\\n\\nThe films are also credited with signalling the popularity of films based on children\\'s and young adult literature in the 2000s and 2010s, correlating with the book series\\' own literary influence. Costance Grady and Aja Romano, commenting on the whole Harry Potter franchise\\'s legacy for Vox in light of its 20th anniversary, wrote that youth-targeted literature has since become \"a go-to well of ideas for Hollywood\", pointing to the successes of The Twilight Saga and The Hunger Games.[163]\\n\\nThe series has spawned a vast volume of fan fiction, with nearly 600,000 inspired stories catalogued,[164] and an Italian fan film, Voldemort: Origins of the Heir, which received over twelve million views in ten days on YouTube.[165]\\n\\nSee also\\n\\nFantastic Beasts\\n\\nNotes')]"
      ]
     },
     "execution_count": 8,
     "metadata": {},
     "output_type": "execute_result"
    }
   ],
   "source": [
    "# TEST COLLECTION INITIALISATION WITH A SIMPLE SIMILARITY SEARCH\n",
    "\n",
    "query = \"How many harry potter movies are there?\"\n",
    "docs = vector_db.similarity_search(query)\n",
    "\n",
    "docs"
   ]
  },
  {
   "cell_type": "code",
   "execution_count": 9,
   "metadata": {},
   "outputs": [],
   "source": [
    "# SET LANGCHAIN INTERFACE FOR GEN AI\n",
    "\n",
    "creds = Credentials(token,\n",
    "                    api_endpoint=\"https://us-south.ml.cloud.ibm.com\") # credentials object to access the LLM service\n",
    "\n",
    "\n",
    "params = TextGenerationParameters(decoding_method=\"sample\",temperature=0.7, top_p=1, top_k=50, min_new_tokens=0, max_new_tokens=200\n",
    "                        )\n",
    "\n",
    "model = LangChainInterface(model_id= 'ibm/granite-20b-multilingual', parameters=params, client=Client(credentials=creds))\n",
    "\n",
    "prompt_template = (\n",
    "            \"\"\"[INST]\n",
    "             <|system|>\n",
    "                here are your instructions:\n",
    "            1. You will be given a context that should be used to reply to user questions. The context will begin with \\\"BEGIN\\\" and will end with \\\"END\\\".\n",
    "            2. You should generate the next response using informations available in the context.\n",
    "            3. If you can't find an answer, say \\\"I don't know\\\".\n",
    "            4. Do not use any other knowledge.\n",
    "            5. Specify the sentences in context that justify your answer.\n",
    "                BEGIN {context} END\n",
    "            [/INST]\n",
    "              {question}\n",
    "            <|assistant|>\n",
    "            \"\"\"\n",
    "        )\n",
    "\n",
    "customprompt = PromptTemplate(\n",
    "            template=prompt_template, input_variables=[\"context\", \"question\"]\n",
    "        )"
   ]
  },
  {
   "cell_type": "code",
   "execution_count": 10,
   "metadata": {},
   "outputs": [
    {
     "data": {
      "text/plain": [
       "LangChainInterface(client=<genai.client.Client object at 0x30903b950>, model_id='ibm/granite-20b-multilingual', parameters=TextGenerationParameters(beam_width=None, decoding_method='sample', include_stop_sequence=None, length_penalty=None, max_new_tokens=200, min_new_tokens=0, random_seed=None, repetition_penalty=None, return_options=None, stop_sequences=None, temperature=0.7, time_limit=None, top_k=50, top_p=1.0, truncate_input_tokens=None, typical_p=None))"
      ]
     },
     "execution_count": 10,
     "metadata": {},
     "output_type": "execute_result"
    }
   ],
   "source": [
    "model"
   ]
  },
  {
   "cell_type": "code",
   "execution_count": 11,
   "metadata": {},
   "outputs": [],
   "source": [
    "def append_docs(docs):\n",
    "    context = ''\n",
    "    for doc in docs:\n",
    "        context += doc.page_content\n",
    "    return context\n",
    "\n",
    "def get_wkc_token_on_cloud(apikey):\n",
    "    body = {\"grant_type\": \"urn:ibm:params:oauth:grant-type:apikey\",\n",
    "            \"apikey\": apikey}\n",
    "\n",
    "    token_request = requests.post('https://iam.cloud.ibm.com/identity/token',\n",
    "                                  data=body, headers={'content-type': 'application/x-www-form-urlencoded'})\n",
    "    try:\n",
    "        token_request.raise_for_status()\n",
    "    except requests.exceptions.HTTPError as e:\n",
    "        raise e  # return code not equals to 200\n",
    "\n",
    "    return json.loads(token_request.text)[\"access_token\"]\n"
   ]
  },
  {
   "cell_type": "code",
   "execution_count": 12,
   "metadata": {},
   "outputs": [],
   "source": [
    "def qa(question):\n",
    "    docs = vector_db.similarity_search(query)\n",
    "\n",
    "    print(str(len(docs))+\" nearest embeddings found;\")\n",
    "    \n",
    "    context = append_docs(docs=docs)\n",
    "    prompt = customprompt.format(context=context, question=question)\n",
    "\n",
    "    barear_token = get_wkc_token_on_cloud(token)\n",
    "\n",
    "    url = \"https://us-south.ml.cloud.ibm.com/ml/v1/text/generation?version=2023-05-29\"\n",
    "\n",
    "    body = {\n",
    "        \"input\": prompt,\n",
    "        \"parameters\": {\n",
    "            \"decoding_method\": \"greedy\",\n",
    "            \"max_new_tokens\": 900,\n",
    "            \"repetition_penalty\": 1.05\n",
    "        },\n",
    "        \"model_id\": \"ibm/granite-13b-chat-v2\",\n",
    "        \"project_id\": project_id\n",
    "    }\n",
    "\n",
    "    headers = {\n",
    "        \"Accept\": \"application/json\",\n",
    "        \"Content-Type\": \"application/json\",\n",
    "        \"Authorization\": \"Bearer {}\".format(barear_token)\n",
    "    }\n",
    "\n",
    "    response = requests.post(\n",
    "        url,\n",
    "        headers=headers,\n",
    "        json=body\n",
    "    )\n",
    "\n",
    "    if response.status_code != 200:\n",
    "        raise Exception(\"Non-200 response: \" + str(response.text))\n",
    "    \n",
    "    data = response.json()\n",
    "    \n",
    "    return data['results'][0]['generated_text']"
   ]
  },
  {
   "cell_type": "code",
   "execution_count": 13,
   "metadata": {},
   "outputs": [
    {
     "name": "stdout",
     "output_type": "stream",
     "text": [
      "4 nearest embeddings found;\n",
      "Harry Potter and the Chamber of Secrets is the second film in the Harry Potter series. It was released in 2002, a year after Harry Potter and the Philosopher's Stone.\n"
     ]
    }
   ],
   "source": [
    "print(qa(\"What is the year of Harry Potter and the chamber of secrets?\"))"
   ]
  },
  {
   "cell_type": "code",
   "execution_count": 14,
   "metadata": {},
   "outputs": [
    {
     "name": "stdout",
     "output_type": "stream",
     "text": [
      "4 nearest embeddings found;\n",
      "Harry Potter and the Philosopher's Stone was the first Harry Potter movie released, on 16 November 2001.\n"
     ]
    }
   ],
   "source": [
    "print(qa(\"When was the first harry potter movie released?\"))"
   ]
  }
 ],
 "metadata": {
  "kernelspec": {
   "display_name": "watsonx",
   "language": "python",
   "name": "python3"
  },
  "language_info": {
   "codemirror_mode": {
    "name": "ipython",
    "version": 3
   },
   "file_extension": ".py",
   "mimetype": "text/x-python",
   "name": "python",
   "nbconvert_exporter": "python",
   "pygments_lexer": "ipython3",
   "version": "3.11.8"
  }
 },
 "nbformat": 4,
 "nbformat_minor": 2
}
